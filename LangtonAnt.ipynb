{
  "nbformat": 4,
  "nbformat_minor": 0,
  "metadata": {
    "colab": {
      "provenance": [],
      "authorship_tag": "ABX9TyMKrn0ZGA1C3ZD0NjDZl8Gm",
      "include_colab_link": true
    },
    "kernelspec": {
      "name": "python3",
      "display_name": "Python 3"
    },
    "language_info": {
      "name": "python"
    }
  },
  "cells": [
    {
      "cell_type": "markdown",
      "metadata": {
        "id": "view-in-github",
        "colab_type": "text"
      },
      "source": [
        "<a href=\"https://colab.research.google.com/github/jashanpreetjabbal/cap-comp215/blob/main/LangtonAnt.ipynb\" target=\"_parent\"><img src=\"https://colab.research.google.com/assets/colab-badge.svg\" alt=\"Open In Colab\"/></a>"
      ]
    },
    {
      "cell_type": "markdown",
      "source": [
        "#### Life in Ant Land: Langton's Ant Explored Through the Lens of Cellular Automata\n",
        "#### by Jashanpreet Singh\n",
        "#### submitted to Joseph Fall"
      ],
      "metadata": {
        "id": "-ZrbPCg2QAog"
      }
    },
    {
      "cell_type": "markdown",
      "source": [
        "#### To Do:\n",
        "#### objectives:\n",
        "     to develop another 2D CA similar to Game of Life\n",
        "     to experiment with interactions between persistent patterns\n",
        "\n",
        "#### Background:\n",
        "Langton's ant is a 2D CA with simple rules but complex emergent behaviour, invented by Chris Langton in 1986. The universality of Langton's ant was proven in 2000. The idea has been generalized in several different ways, such as turmites which add more colors and more states. https://en.wikipedia.org/wiki/Langton's_ant\n",
        "\n",
        "    In this project, we will develop a simulation of Langton’s Ant and experiment to learn some of its behaviours.\n"
      ],
      "metadata": {
        "id": "9CrX81FQUTdf"
      }
    },
    {
      "cell_type": "markdown",
      "source": [
        "The project gets its ideas from Lab6 and codes been modified using help of AI and existing models from various individuals(will be mentioned accordingly)."
      ],
      "metadata": {
        "id": "T7_cAt-FQwcb"
      }
    },
    {
      "cell_type": "markdown",
      "source": [
        "Lets import the required libraries first."
      ],
      "metadata": {
        "id": "zPeEKZnUQo_E"
      }
    },
    {
      "cell_type": "code",
      "source": [
        "import time\n",
        "import matplotlib\n",
        "import matplotlib.pyplot as plt\n",
        "from matplotlib import animation\n",
        "import numpy as np\n",
        "\n",
        "%matplotlib inline\n",
        "matplotlib.rc('animation', html='jshtml')"
      ],
      "metadata": {
        "id": "TzZuw3IkPhrG"
      },
      "execution_count": 1,
      "outputs": []
    },
    {
      "cell_type": "markdown",
      "source": [
        "The code below is taken from Lab6 as it serves my purpose."
      ],
      "metadata": {
        "id": "7UGw-liQX085"
      }
    },
    {
      "cell_type": "code",
      "source": [
        "\n",
        "\n",
        "def plot_2d_array(array, axes=None, title='', cmap='Blues', **options):\n",
        "\n",
        "    axes = axes or plt.gca()\n",
        "    axes.set_title(title)\n",
        "\n",
        "    axes.tick_params(axis='both', which='both', bottom=False, top=False, left=False, right=False ,\n",
        "                     labelbottom=False, labeltop=False, labelleft=False, labelright=False,)\n",
        "\n",
        "    options = {**dict(interpolation='nearest', origin='upper'), **options}\n",
        "    axes.imshow(array, cmap=cmap, **options)"
      ],
      "metadata": {
        "id": "8BGPeiYrPwvl"
      },
      "execution_count": 2,
      "outputs": []
    },
    {
      "cell_type": "markdown",
      "source": [
        "Langton's Ant rules:\n",
        "\n",
        "1. The ant moves on a grid where each cell can be black or white.\n",
        "2. It starts on a cell facing a direction (up, down, left, or right).\n",
        "3. At each step:\n",
        "   - If the ant is on a white cell, it turns right, flips the cell to black, and moves forward.\n",
        "   - If the ant is on a black cell, it turns left, flips the cell to white, and moves forward.\n",
        "4. The ant repeats these steps indefinitely."
      ],
      "metadata": {
        "id": "z5Vk1NVm6EA7"
      }
    },
    {
      "cell_type": "markdown",
      "source": [
        "The code below is inspired from lesguillemets(github) project on langton' Ant.\n",
        "\n",
        "https://github.com/lesguillemets/Langtons_ant\n",
        "\n",
        "i loved the way he used vectors to determine direction"
      ],
      "metadata": {
        "id": "ORXrTM-mXX3r"
      }
    },
    {
      "cell_type": "code",
      "source": [
        "class Ant(object):\n",
        "    def __init__(self, location, direction):\n",
        "        self.location = location\n",
        "        self.direction = direction\n",
        "\n",
        "        self.isalive = True\n",
        "        self.v = {\n",
        "            0: (0, 1),\n",
        "            1: (1, 0),\n",
        "            2: (0, -1),\n",
        "            3: (-1, 0),\n",
        "        }\n",
        "\n",
        "    def turn(self, degs):\n",
        "        self.direction += degs\n",
        "        self.direction = self.direction % 4\n",
        "\n",
        "    def turn_right(self):\n",
        "        self.turn(1)\n",
        "\n",
        "    def turn_left(self):\n",
        "        self.turn(3)\n",
        "\n",
        "    def move(self):\n",
        "        self.location = list(map(sum, zip(self.location, self.v[self.direction])))\n",
        "\n",
        "    def die(self):\n",
        "        self.isalive = False"
      ],
      "metadata": {
        "id": "L4E_nvgjXEAG"
      },
      "execution_count": 3,
      "outputs": []
    },
    {
      "cell_type": "markdown",
      "source": [
        "The code below has been taken from Lab6 and modified for the appropriate usage as needed for the project. The shape of the ant(last function) was generated by  AI."
      ],
      "metadata": {
        "id": "jVUQhtO5ZIYd"
      }
    },
    {
      "cell_type": "code",
      "source": [
        "class LangtonsAnt:\n",
        "    def __init__(self, size=101, start=(5, 5), num_ants=1):\n",
        "        self.size = size\n",
        "        self.grid = np.zeros((size, size), dtype=np.uint8)\n",
        "        self.ants = [Ant(start, np.random.randint(0, 4)) for _ in range(num_ants)]\n",
        "        self.rotation_matrix = np.array([[0, 1], [-1, 0]])\n",
        "\n",
        "    def step(self):\n",
        "        for ant in self.ants:\n",
        "            x, y = ant.location\n",
        "            if self.grid[x, y] == 0:\n",
        "                ant.turn_right()\n",
        "                self.grid[x, y] = 1\n",
        "            else:\n",
        "                ant.turn_left()\n",
        "                self.grid[x, y] = 0\n",
        "            ant.move()\n",
        "            ant.location = np.mod(ant.location, self.size)\n",
        "\n",
        "    def draw(self, axes=None, step=''):\n",
        "        axes = axes or plt.gca()\n",
        "        plot_2d_array(self.grid, axes, title=f\"Langton's Ant {step}\", cmap='binary')\n",
        "        for ant in self.ants:\n",
        "            x, y = ant.location\n",
        "            direction = ant.direction\n",
        "            dx, dy = ant.v[direction]\n",
        "            vertices = np.array([[x - 0.3 * dy, y + 0.3 * dx],\n",
        "                                 [x + 0.3 * dy - 0.2 * dx, y - 0.3 * dx - 0.2 * dy],\n",
        "                                 [x + 0.3 * dy + 0.2 * dx, y - 0.3 * dx + 0.2 * dy]])\n",
        "            axes.fill(vertices[:, 0], vertices[:, 1], 'red')"
      ],
      "metadata": {
        "id": "Bo-8IFh6PwYq"
      },
      "execution_count": 4,
      "outputs": []
    },
    {
      "cell_type": "markdown",
      "source": [
        "The class below is from Lab6 as it was just perfect to be used for the animation."
      ],
      "metadata": {
        "id": "eX9EPmjraDhF"
      }
    },
    {
      "cell_type": "code",
      "execution_count": 5,
      "metadata": {
        "colab": {
          "base_uri": "https://localhost:8080/",
          "height": 675
        },
        "id": "Lse5yY1zAflN",
        "outputId": "cb090b49-be58-47d5-d13d-ac62791c58b5"
      },
      "outputs": [
        {
          "output_type": "display_data",
          "data": {
            "text/plain": [
              "<Figure size 800x800 with 1 Axes>"
            ],
            "image/png": "[encoded data removed]"
          },
          "metadata": {}
        }
      ],
      "source": [
        "class Animation2D:\n",
        "    \"\"\"\n",
        "    Animates any 2D model with a step() method and a draw() method, using matplotlib\n",
        "    model.step() should take no parameters - just step the model forward one step.\n",
        "    model.draw() should take 2 parameters, the matpltolib axes to draw on and an integer step number\n",
        "    \"\"\"\n",
        "\n",
        "    def __init__(self, model, frames=50, figsize=(8, 8)):\n",
        "        \"\"\"\n",
        "        :param model: the simulation object to animate, with step() and draw(axes, step) methods\n",
        "        :param frames: number of animation frames to generate\n",
        "        \"\"\"\n",
        "        self.model = model\n",
        "        self.frames = frames\n",
        "        self.fig, self.ax = plt.subplots(figsize=figsize)\n",
        "\n",
        "    def animation_step(self, step):\n",
        "        \"\"\" Step the model forward and draw the plot \"\"\"\n",
        "        if step > 0:\n",
        "            self.model.step()\n",
        "        self.model.draw(self.ax, step=step)\n",
        "\n",
        "    def show(self):\n",
        "        \"\"\" return the matplotlib animation object, ready for display \"\"\"\n",
        "        anim = animation.FuncAnimation(self.fig, self.animation_step, frames=self.frames)\n",
        "        plt.close()  # this ensures the last frame is not shown as a separate plot\n",
        "        return anim\n",
        "\n",
        "    def animate(self, interval=None):\n",
        "        \"\"\" Animate the model simulation directly in the notebook display block \"\"\"\n",
        "        from IPython.display import clear_output\n",
        "        try:\n",
        "            for i in range(self.frames):\n",
        "                clear_output(wait=True)  # clear the IPython display\n",
        "                self.ax.clear()          # clear old image from the axes (fixes a performance issue)\n",
        "                plt.figure(self.fig)     # add the figure back to pyplot ** sigh **\n",
        "                self.animation_step(i)\n",
        "                plt.show()               # show the current animation frame (pyplot then closes and throws away figure ** sigh **)\n",
        "                if interval:\n",
        "                    time.sleep(interval)\n",
        "        except KeyboardInterrupt:\n",
        "            pass\n",
        "\n",
        "# Create Langton's Ant instance\n",
        "size = 75\n",
        "ant = LangtonsAnt(size, start=(5, 5))\n",
        "\n",
        "langton_ant_animation = Animation2D(ant, frames=100)\n",
        "\n",
        "langton_ant_animation.animate()\n"
      ]
    },
    {
      "cell_type": "markdown",
      "source": [
        "The below code is another example when we will start the with the position of ant from center."
      ],
      "metadata": {
        "id": "v_sIZtE_atke"
      }
    },
    {
      "cell_type": "code",
      "source": [
        "ant_center = LangtonsAnt(size, start=(size // 2, size // 2))\n",
        "animation_center = Animation2D(ant_center, frames=100)\n",
        "animation_center.animate()\n"
      ],
      "metadata": {
        "colab": {
          "base_uri": "https://localhost:8080/",
          "height": 675
        },
        "id": "dML1S0IyAqZx",
        "outputId": "5e0c4d99-4b15-4aa8-f000-d96479791348"
      },
      "execution_count": 31,
      "outputs": [
        {
          "output_type": "display_data",
          "data": {
            "text/plain": [
              "<Figure size 800x800 with 1 Axes>"
            ],
            "image/png": "[encoded data removed]"
          },
          "metadata": {}
        }
      ]
    },
    {
      "cell_type": "markdown",
      "source": [
        "This examples implements when the ant is on top-left.\n"
      ],
      "metadata": {
        "id": "tk-LtqTCa71Z"
      }
    },
    {
      "cell_type": "code",
      "source": [
        "ant_top_left = LangtonsAnt(size, start=(0, 0))\n",
        "animation_top_left = Animation2D(ant_top_left, frames=100)\n",
        "animation_top_left.animate()\n"
      ],
      "metadata": {
        "colab": {
          "base_uri": "https://localhost:8080/",
          "height": 675
        },
        "id": "-VtinNuMAvho",
        "outputId": "6556d2fd-3baf-4e18-bdf5-92ecd4342003"
      },
      "execution_count": 42,
      "outputs": [
        {
          "output_type": "display_data",
          "data": {
            "text/plain": [
              "<Figure size 800x800 with 1 Axes>"
            ],
            "image/png": "[encoded data removed]"
          },
          "metadata": {}
        }
      ]
    },
    {
      "cell_type": "markdown",
      "source": [
        "This example is for the new position of ant which is bottom right."
      ],
      "metadata": {
        "id": "dWK6aFcZbE1S"
      }
    },
    {
      "cell_type": "code",
      "source": [
        "ant_bottom_right = LangtonsAnt(size, start=(size - 1, size - 1))\n",
        "animation_bottom_right = Animation2D(ant_bottom_right, frames=100)\n",
        "animation_bottom_right.animate()\n"
      ],
      "metadata": {
        "colab": {
          "base_uri": "https://localhost:8080/",
          "height": 675
        },
        "id": "FO4YwWnsAwbL",
        "outputId": "9f502e25-5072-499e-ba66-94da35dfa803"
      },
      "execution_count": 16,
      "outputs": [
        {
          "output_type": "display_data",
          "data": {
            "text/plain": [
              "<Figure size 800x800 with 1 Axes>"
            ],
            "image/png": "[encoded data removed]"
          },
          "metadata": {}
        }
      ]
    },
    {
      "cell_type": "markdown",
      "source": [
        "The examples provided runs for 5000 steps which tells how the ant will behave when it starts from center of the grid and what complex structures can arise form this position(It took me 30 minutes to run this)."
      ],
      "metadata": {
        "id": "-VQRzYI0bOao"
      }
    },
    {
      "cell_type": "code",
      "source": [
        "size = 201  # Grid size\n",
        "steps = 5000  # Number of steps to run the simulation\n",
        "\n",
        "ant_center = LangtonsAnt(size, start=(size // 2, size // 2))\n",
        "animation_center = Animation2D(ant_center, frames=steps)\n",
        "animation_center.animate()\n"
      ],
      "metadata": {
        "colab": {
          "base_uri": "https://localhost:8080/",
          "height": 675
        },
        "id": "pqvbgtAGBpzX",
        "outputId": "8ba3e402-e922-4623-a24d-e2b137f3a2e8"
      },
      "execution_count": 39,
      "outputs": [
        {
          "output_type": "display_data",
          "data": {
            "text/plain": [
              "<Figure size 800x800 with 1 Axes>"
            ],
            "image/png": "[encoded data removed]"
          },
          "metadata": {}
        }
      ]
    },
    {
      "cell_type": "markdown",
      "source": [
        "we have tried with different positions but what if we change the number of ants ? the answer is in next simulation."
      ],
      "metadata": {
        "id": "1CZ-e65XfDqJ"
      }
    },
    {
      "cell_type": "code",
      "source": [
        "ant = LangtonsAnt(size, start=(5, 5), num_ants=5)\n",
        "langton_ant_animation = Animation2D(ant, frames=100)\n",
        "langton_ant_animation.animate()"
      ],
      "metadata": {
        "colab": {
          "base_uri": "https://localhost:8080/",
          "height": 675
        },
        "id": "1wiNwpsbeogE",
        "outputId": "5a0b2efd-9149-4846-8723-a67fc31608ff"
      },
      "execution_count": 17,
      "outputs": [
        {
          "output_type": "display_data",
          "data": {
            "text/plain": [
              "<Figure size 800x800 with 1 Axes>"
            ],
            "image/png": "[encoded data removed]"
          },
          "metadata": {}
        }
      ]
    },
    {
      "cell_type": "markdown",
      "source": [
        "\n",
        "\n",
        "---\n",
        "\n",
        "\n",
        "\n",
        "---\n",
        "\n",
        "\n",
        "# **Algorithm Analysis**\n",
        "**Ques1:** What is the Big-O time complexity of the algorithm we are using here to simulate this system?\n",
        "What implications does that have for running larger or longer CA experiments ?\n",
        "\n",
        "**Ans1**: The algo's time complexity is O(N*M);N: num of simulations; M: num of ants. however when the number of ant is just one then the time complexity is just O(N) which tells that if we run larger experiments with larger grid size the time will increase linearly. But adding more ants which we did in the last example, it makes the time complexity O( N * M ) which will take much time.\n",
        "\n"
      ],
      "metadata": {
        "id": "BGN6Cu3zbsUs"
      }
    },
    {
      "cell_type": "markdown",
      "source": [
        "**Ques2:** Use Python’s timeit to do some actual timings to support your algorithm analysis.\n",
        "\n",
        "**Ans2**: the implementation was done by AI."
      ],
      "metadata": {
        "id": "Wc1rGi-7g8-y"
      }
    },
    {
      "cell_type": "code",
      "source": [
        "def calc_time(n):\n",
        "    time = dict()\n",
        "    for i in range(n):\n",
        "        test_ant = Ant([100,100], 0)  # Passing a dummy direction argument\n",
        "        test_world = LangtonsAnt(200, (test_ant,))\n",
        "        time_taken = timeit.timeit(lambda: test_world.step(), number=100)\n",
        "        time[i] = time_taken\n",
        "    plt.plot(time.keys(), time.values())\n",
        "    plt.xlabel('Iteration')\n",
        "    plt.ylabel('Time (s)')\n",
        "    plt.title('Time taken for Langton\\'s Ant simulation')\n",
        "    plt.show()\n",
        "\n",
        "# Run the time calculation function\n",
        "calc_time(100)"
      ],
      "metadata": {
        "id": "9qymklWEhnbL"
      },
      "execution_count": null,
      "outputs": []
    },
    {
      "cell_type": "markdown",
      "source": [
        "**Ques3:**Early in the Chapter 8 notebook, the author makes some efficiency improvements to the basic algorithm.\n",
        "Do these improvements change the Big-O time complexity?\n",
        "Do they reduce the multiplicative coefficient (linear improvement) or the constant (overhead).\n",
        "\n",
        "**Ans3:**"
      ],
      "metadata": {
        "id": "Qm4VS5AIzVEA"
      }
    },
    {
      "cell_type": "markdown",
      "source": [
        "---\n",
        "---\n",
        "**Next thing which i would like to add:** I have seen many Langton's Ant\n",
        "projects and many of them use Pygame to get output or make it look interesting. i would try to add pygame and simulate to do that."
      ],
      "metadata": {
        "id": "oU7d2wtl1rQr"
      }
    }
  ]
}